{
  "nbformat": 4,
  "nbformat_minor": 0,
  "metadata": {
    "colab": {
      "provenance": [],
      "authorship_tag": "ABX9TyOmLWXniYXQMv0Fwf15+HAw",
      "include_colab_link": true
    },
    "kernelspec": {
      "name": "python3",
      "display_name": "Python 3"
    },
    "language_info": {
      "name": "python"
    }
  },
  "cells": [
    {
      "cell_type": "markdown",
      "metadata": {
        "id": "view-in-github",
        "colab_type": "text"
      },
      "source": [
        "<a href=\"https://colab.research.google.com/github/2303A52345/SML-2303A52345/blob/main/Copy_of_2303A52345_assigment_2_statatics.ipynb\" target=\"_parent\"><img src=\"https://colab.research.google.com/assets/colab-badge.svg\" alt=\"Open In Colab\"/></a>"
      ]
    },
    {
      "cell_type": "code",
      "execution_count": null,
      "metadata": {
        "colab": {
          "base_uri": "https://localhost:8080/",
          "height": 482
        },
        "id": "fn7KTq-DV1t5",
        "outputId": "fd0fab85-08d0-4f71-87c6-d49d251aa03b"
      },
      "outputs": [
        {
          "output_type": "execute_result",
          "data": {
            "text/plain": [
              "(array([8., 3., 1., 0., 1.]),\n",
              " array([ 1.3 ,  3.24,  5.18,  7.12,  9.06, 11.  ]),\n",
              " <BarContainer object of 5 artists>)"
            ]
          },
          "metadata": {},
          "execution_count": 1
        },
        {
          "output_type": "display_data",
          "data": {
            "text/plain": [
              "<Figure size 640x480 with 1 Axes>"
            ],
            "image/png": "[encoded data removed]"
          },
          "metadata": {}
        }
      ],
      "source": [
        "#2303A52345\n",
        "#Question 1\n",
        "import numpy as np\n",
        "import matplotlib.pyplot as plt\n",
        "x=np.array([1.3, 1.5, 2.6, 2.6, 3.2, 3.9, 4.2, 3.7, 3.10, 3.0,11,6.7,1.9])\n",
        "plt.hist(x,bins=5)"
      ]
    },
    {
      "cell_type": "code",
      "source": [
        "#Question2\n",
        "# Find Mean, Median, Mode , Variance , Standard deviation , Range ,\n",
        "#Interquartile Range (IQR), Skewness ,Kurtosis of x and y\n",
        "import numpy as np\n",
        "from scipy import stats as s\n",
        "import matplotlib.pyplot as plt\n",
        "A=[12,13,56,23,41,28,51]\n",
        "B=[51,63,37,88,33,72,81]"
      ],
      "metadata": {
        "id": "yMM4RAJjV8GB"
      },
      "execution_count": null,
      "outputs": []
    },
    {
      "cell_type": "code",
      "source": [
        "print(\"Mean of A is\",np.mean(A))\n",
        "print(\"Mean of B is\",np.mean(B))\n"
      ],
      "metadata": {
        "colab": {
          "base_uri": "https://localhost:8080/"
        },
        "id": "DmmRoXgWWSr5",
        "outputId": "a660c639-d1a0-4d2f-b6e1-ed101506e523"
      },
      "execution_count": null,
      "outputs": [
        {
          "output_type": "stream",
          "name": "stdout",
          "text": [
            "Mean of A is 32.0\n",
            "Mean of B is 60.714285714285715\n"
          ]
        }
      ]
    },
    {
      "cell_type": "code",
      "source": [
        "print(\"Median of A is\",np.median(A))\n",
        "print(\"Median of B is\",np.median(B))"
      ],
      "metadata": {
        "colab": {
          "base_uri": "https://localhost:8080/"
        },
        "id": "m_pCK3bwX7Zo",
        "outputId": "f55480b3-a182-439b-b127-65137c177c3d"
      },
      "execution_count": null,
      "outputs": [
        {
          "output_type": "stream",
          "name": "stdout",
          "text": [
            "Median of A is 28.0\n",
            "Median of B is 63.0\n"
          ]
        }
      ]
    },
    {
      "cell_type": "code",
      "source": [
        "print(\"Mode of A is\",s.mode(A))\n",
        "print(\"Mode of B is\",s.mode(B))"
      ],
      "metadata": {
        "colab": {
          "base_uri": "https://localhost:8080/"
        },
        "id": "cEeU4h9XYD0h",
        "outputId": "915b1a2f-6eb5-413e-b0fe-fc8476f0f51a"
      },
      "execution_count": null,
      "outputs": [
        {
          "output_type": "stream",
          "name": "stdout",
          "text": [
            "Mode of A is ModeResult(mode=12, count=1)\n",
            "Mode of B is ModeResult(mode=33, count=1)\n"
          ]
        }
      ]
    },
    {
      "cell_type": "code",
      "source": [
        "print(\"Variance of A is\",np.var(A))\n",
        "print(\"Variance of B is\",np.var(B))"
      ],
      "metadata": {
        "colab": {
          "base_uri": "https://localhost:8080/"
        },
        "id": "I0i3410TYpyT",
        "outputId": "900b7f92-fef0-4b4d-9d7f-08f21414dc2b"
      },
      "execution_count": null,
      "outputs": [
        {
          "output_type": "stream",
          "name": "stdout",
          "text": [
            "Variance of A is 268.0\n",
            "Variance of B is 387.6326530612245\n"
          ]
        }
      ]
    },
    {
      "cell_type": "code",
      "source": [
        "print(\"Standard deviation of A is\",np.std(A))\n",
        "print(\"Standard deviation of B is\",np.std(B))"
      ],
      "metadata": {
        "colab": {
          "base_uri": "https://localhost:8080/"
        },
        "id": "r-Viv32fYuEe",
        "outputId": "f9c03ed0-561b-4cfc-ef6b-407eb8501e14"
      },
      "execution_count": null,
      "outputs": [
        {
          "output_type": "stream",
          "name": "stdout",
          "text": [
            "Standard deviation of A is 16.3707055437449\n",
            "Standard deviation of B is 19.68838878784205\n"
          ]
        }
      ]
    },
    {
      "cell_type": "code",
      "source": [
        "print(\"Range of A is\",max(A)-min(A))\n",
        "print(\"Range of B is\",max(B)-min(B))"
      ],
      "metadata": {
        "colab": {
          "base_uri": "https://localhost:8080/"
        },
        "id": "3STA6pONYydZ",
        "outputId": "c23e1be0-35b5-4b5c-a8b6-10661600696c"
      },
      "execution_count": null,
      "outputs": [
        {
          "output_type": "stream",
          "name": "stdout",
          "text": [
            "Range of A is 44\n",
            "Range of B is 55\n"
          ]
        }
      ]
    },
    {
      "cell_type": "code",
      "source": [
        "print(\"Interquartile range of A is\",np.percentile(A,75)-np.percentile(A,25))\n",
        "print(\"Interquartile range of B is\",np.percentile(B,75)-np.percentile(B,25))"
      ],
      "metadata": {
        "colab": {
          "base_uri": "https://localhost:8080/"
        },
        "id": "ZU9H145vY2CY",
        "outputId": "72eb2175-16ea-4c73-bc85-0f0c784ebb48"
      },
      "execution_count": null,
      "outputs": [
        {
          "output_type": "stream",
          "name": "stdout",
          "text": [
            "Interquartile range of A is 28.0\n",
            "Interquartile range of B is 32.5\n"
          ]
        }
      ]
    },
    {
      "cell_type": "code",
      "source": [
        "print(\"Skewness of A is\",s.skew(A))\n",
        "print(\"Skewness of B is\",s.skew(B))"
      ],
      "metadata": {
        "colab": {
          "base_uri": "https://localhost:8080/"
        },
        "id": "jLWG6Yc6ZJa0",
        "outputId": "51781db2-d447-4fd2-b08f-bc0af762119c"
      },
      "execution_count": null,
      "outputs": [
        {
          "output_type": "stream",
          "name": "stdout",
          "text": [
            "Skewness of A is 0.18755223867066048\n",
            "Skewness of B is -0.10160487226954186\n"
          ]
        }
      ]
    },
    {
      "cell_type": "code",
      "source": [
        "print(\"Kurtosis of A is\",s.kurtosis(A))\n",
        "print(\"Kurtosis of B is\",s.kurtosis(B))"
      ],
      "metadata": {
        "colab": {
          "base_uri": "https://localhost:8080/"
        },
        "id": "mR9ovCtrZfMV",
        "outputId": "90160607-eca5-4cc5-e970-8a23c26fa812"
      },
      "execution_count": null,
      "outputs": [
        {
          "output_type": "stream",
          "name": "stdout",
          "text": [
            "Kurtosis of A is -1.47684021258314\n",
            "Kurtosis of B is -1.4265295827972655\n"
          ]
        }
      ]
    },
    {
      "cell_type": "code",
      "source": [
        "#Question 3:\n",
        "#From the above data Find Mean, Median, Mode, Variance, Standard deviation, Range , Interquartile Range (IQR),  Skewness ,Kurtosis of eachimport pandas as pd\n",
        "import numpy as np\n",
        "import pandas as pd\n",
        "from scipy import stats as s\n",
        "import matplotlib.pyplot as plt\n",
        "d=pd.read_csv('/content/sample_data/california_housing_train.csv')\n",
        "d\n"
      ],
      "metadata": {
        "colab": {
          "base_uri": "https://localhost:8080/",
          "height": 423
        },
        "id": "h5Naa_L7ZmG9",
        "outputId": "ef3d04c8-f096-4f8d-eedd-3b405e565ffb"
      },
      "execution_count": null,
      "outputs": [
        {
          "output_type": "execute_result",
          "data": {
            "text/plain": [
              "       longitude  latitude  housing_median_age  total_rooms  total_bedrooms  \\\n",
              "0        -114.31     34.19                15.0       5612.0          1283.0   \n",
              "1        -114.47     34.40                19.0       7650.0          1901.0   \n",
              "2        -114.56     33.69                17.0        720.0           174.0   \n",
              "3        -114.57     33.64                14.0       1501.0           337.0   \n",
              "4        -114.57     33.57                20.0       1454.0           326.0   \n",
              "...          ...       ...                 ...          ...             ...   \n",
              "16995    -124.26     40.58                52.0       2217.0           394.0   \n",
              "16996    -124.27     40.69                36.0       2349.0           528.0   \n",
              "16997    -124.30     41.84                17.0       2677.0           531.0   \n",
              "16998    -124.30     41.80                19.0       2672.0           552.0   \n",
              "16999    -124.35     40.54                52.0       1820.0           300.0   \n",
              "\n",
              "       population  households  median_income  median_house_value  \n",
              "0          1015.0       472.0         1.4936             66900.0  \n",
              "1          1129.0       463.0         1.8200             80100.0  \n",
              "2           333.0       117.0         1.6509             85700.0  \n",
              "3           515.0       226.0         3.1917             73400.0  \n",
              "4           624.0       262.0         1.9250             65500.0  \n",
              "...           ...         ...            ...                 ...  \n",
              "16995       907.0       369.0         2.3571            111400.0  \n",
              "16996      1194.0       465.0         2.5179             79000.0  \n",
              "16997      1244.0       456.0         3.0313            103600.0  \n",
              "16998      1298.0       478.0         1.9797             85800.0  \n",
              "16999       806.0       270.0         3.0147             94600.0  \n",
              "\n",
              "[17000 rows x 9 columns]"
            ],
            "text/html": [
              "\n",
              "  <div id=\"df-77ad8d46-6aab-47af-9c48-1c83ff360917\" class=\"colab-df-container\">\n",
              "    <div>\n",
              "<style scoped>\n",
              "    .dataframe tbody tr th:only-of-type {\n",
              "        vertical-align: middle;\n",
              "    }\n",
              "\n",
              "    .dataframe tbody tr th {\n",
              "        vertical-align: top;\n",
              "    }\n",
              "\n",
              "    .dataframe thead th {\n",
              "        text-align: right;\n",
              "    }\n",
              "</style>\n",
              "<table border=\"1\" class=\"dataframe\">\n",
              "  <thead>\n",
              "    <tr style=\"text-align: right;\">\n",
              "      <th></th>\n",
              "      <th>longitude</th>\n",
              "      <th>latitude</th>\n",
              "      <th>housing_median_age</th>\n",
              "      <th>total_rooms</th>\n",
              "      <th>total_bedrooms</th>\n",
              "      <th>population</th>\n",
              "      <th>households</th>\n",
              "      <th>median_income</th>\n",
              "      <th>median_house_value</th>\n",
              "    </tr>\n",
              "  </thead>\n",
              "  <tbody>\n",
              "    <tr>\n",
              "      <th>0</th>\n",
              "      <td>-114.31</td>\n",
              "      <td>34.19</td>\n",
              "      <td>15.0</td>\n",
              "      <td>5612.0</td>\n",
              "      <td>1283.0</td>\n",
              "      <td>1015.0</td>\n",
              "      <td>472.0</td>\n",
              "      <td>1.4936</td>\n",
              "      <td>66900.0</td>\n",
              "    </tr>\n",
              "    <tr>\n",
              "      <th>1</th>\n",
              "      <td>-114.47</td>\n",
              "      <td>34.40</td>\n",
              "      <td>19.0</td>\n",
              "      <td>7650.0</td>\n",
              "      <td>1901.0</td>\n",
              "      <td>1129.0</td>\n",
              "      <td>463.0</td>\n",
              "      <td>1.8200</td>\n",
              "      <td>80100.0</td>\n",
              "    </tr>\n",
              "    <tr>\n",
              "      <th>2</th>\n",
              "      <td>-114.56</td>\n",
              "      <td>33.69</td>\n",
              "      <td>17.0</td>\n",
              "      <td>720.0</td>\n",
              "      <td>174.0</td>\n",
              "      <td>333.0</td>\n",
              "      <td>117.0</td>\n",
              "      <td>1.6509</td>\n",
              "      <td>85700.0</td>\n",
              "    </tr>\n",
              "    <tr>\n",
              "      <th>3</th>\n",
              "      <td>-114.57</td>\n",
              "      <td>33.64</td>\n",
              "      <td>14.0</td>\n",
              "      <td>1501.0</td>\n",
              "      <td>337.0</td>\n",
              "      <td>515.0</td>\n",
              "      <td>226.0</td>\n",
              "      <td>3.1917</td>\n",
              "      <td>73400.0</td>\n",
              "    </tr>\n",
              "    <tr>\n",
              "      <th>4</th>\n",
              "      <td>-114.57</td>\n",
              "      <td>33.57</td>\n",
              "      <td>20.0</td>\n",
              "      <td>1454.0</td>\n",
              "      <td>326.0</td>\n",
              "      <td>624.0</td>\n",
              "      <td>262.0</td>\n",
              "      <td>1.9250</td>\n",
              "      <td>65500.0</td>\n",
              "    </tr>\n",
              "    <tr>\n",
              "      <th>...</th>\n",
              "      <td>...</td>\n",
              "      <td>...</td>\n",
              "      <td>...</td>\n",
              "      <td>...</td>\n",
              "      <td>...</td>\n",
              "      <td>...</td>\n",
              "      <td>...</td>\n",
              "      <td>...</td>\n",
              "      <td>...</td>\n",
              "    </tr>\n",
              "    <tr>\n",
              "      <th>16995</th>\n",
              "      <td>-124.26</td>\n",
              "      <td>40.58</td>\n",
              "      <td>52.0</td>\n",
              "      <td>2217.0</td>\n",
              "      <td>394.0</td>\n",
              "      <td>907.0</td>\n",
              "      <td>369.0</td>\n",
              "      <td>2.3571</td>\n",
              "      <td>111400.0</td>\n",
              "    </tr>\n",
              "    <tr>\n",
              "      <th>16996</th>\n",
              "      <td>-124.27</td>\n",
              "      <td>40.69</td>\n",
              "      <td>36.0</td>\n",
              "      <td>2349.0</td>\n",
              "      <td>528.0</td>\n",
              "      <td>1194.0</td>\n",
              "      <td>465.0</td>\n",
              "      <td>2.5179</td>\n",
              "      <td>79000.0</td>\n",
              "    </tr>\n",
              "    <tr>\n",
              "      <th>16997</th>\n",
              "      <td>-124.30</td>\n",
              "      <td>41.84</td>\n",
              "      <td>17.0</td>\n",
              "      <td>2677.0</td>\n",
              "      <td>531.0</td>\n",
              "      <td>1244.0</td>\n",
              "      <td>456.0</td>\n",
              "      <td>3.0313</td>\n",
              "      <td>103600.0</td>\n",
              "    </tr>\n",
              "    <tr>\n",
              "      <th>16998</th>\n",
              "      <td>-124.30</td>\n",
              "      <td>41.80</td>\n",
              "      <td>19.0</td>\n",
              "      <td>2672.0</td>\n",
              "      <td>552.0</td>\n",
              "      <td>1298.0</td>\n",
              "      <td>478.0</td>\n",
              "      <td>1.9797</td>\n",
              "      <td>85800.0</td>\n",
              "    </tr>\n",
              "    <tr>\n",
              "      <th>16999</th>\n",
              "      <td>-124.35</td>\n",
              "      <td>40.54</td>\n",
              "      <td>52.0</td>\n",
              "      <td>1820.0</td>\n",
              "      <td>300.0</td>\n",
              "      <td>806.0</td>\n",
              "      <td>270.0</td>\n",
              "      <td>3.0147</td>\n",
              "      <td>94600.0</td>\n",
              "    </tr>\n",
              "  </tbody>\n",
              "</table>\n",
              "<p>17000 rows × 9 columns</p>\n",
              "</div>\n",
              "    <div class=\"colab-df-buttons\">\n",
              "\n",
              "  <div class=\"colab-df-container\">\n",
              "    <button class=\"colab-df-convert\" onclick=\"convertToInteractive('df-77ad8d46-6aab-47af-9c48-1c83ff360917')\"\n",
              "            title=\"Convert this dataframe to an interactive table.\"\n",
              "            style=\"display:none;\">\n",
              "\n",
              "  <svg xmlns=\"http://www.w3.org/2000/svg\" height=\"24px\" viewBox=\"0 -960 960 960\">\n",
              "    <path d=\"M120-120v-720h720v720H120Zm60-500h600v-160H180v160Zm220 220h160v-160H400v160Zm0 220h160v-160H400v160ZM180-400h160v-160H180v160Zm440 0h160v-160H620v160ZM180-180h160v-160H180v160Zm440 0h160v-160H620v160Z\"/>\n",
              "  </svg>\n",
              "    </button>\n",
              "\n",
              "  <style>\n",
              "    .colab-df-container {\n",
              "      display:flex;\n",
              "      gap: 12px;\n",
              "    }\n",
              "\n",
              "    .colab-df-convert {\n",
              "      background-color: #E8F0FE;\n",
              "      border: none;\n",
              "      border-radius: 50%;\n",
              "      cursor: pointer;\n",
              "      display: none;\n",
              "      fill: #1967D2;\n",
              "      height: 32px;\n",
              "      padding: 0 0 0 0;\n",
              "      width: 32px;\n",
              "    }\n",
              "\n",
              "    .colab-df-convert:hover {\n",
              "      background-color: #E2EBFA;\n",
              "      box-shadow: 0px 1px 2px rgba(60, 64, 67, 0.3), 0px 1px 3px 1px rgba(60, 64, 67, 0.15);\n",
              "      fill: #174EA6;\n",
              "    }\n",
              "\n",
              "    .colab-df-buttons div {\n",
              "      margin-bottom: 4px;\n",
              "    }\n",
              "\n",
              "    [theme=dark] .colab-df-convert {\n",
              "      background-color: #3B4455;\n",
              "      fill: #D2E3FC;\n",
              "    }\n",
              "\n",
              "    [theme=dark] .colab-df-convert:hover {\n",
              "      background-color: #434B5C;\n",
              "      box-shadow: 0px 1px 3px 1px rgba(0, 0, 0, 0.15);\n",
              "      filter: drop-shadow(0px 1px 2px rgba(0, 0, 0, 0.3));\n",
              "      fill: #FFFFFF;\n",
              "    }\n",
              "  </style>\n",
              "\n",
              "    <script>\n",
              "      const buttonEl =\n",
              "        document.querySelector('#df-77ad8d46-6aab-47af-9c48-1c83ff360917 button.colab-df-convert');\n",
              "      buttonEl.style.display =\n",
              "        google.colab.kernel.accessAllowed ? 'block' : 'none';\n",
              "\n",
              "      async function convertToInteractive(key) {\n",
              "        const element = document.querySelector('#df-77ad8d46-6aab-47af-9c48-1c83ff360917');\n",
              "        const dataTable =\n",
              "          await google.colab.kernel.invokeFunction('convertToInteractive',\n",
              "                                                    [key], {});\n",
              "        if (!dataTable) return;\n",
              "\n",
              "        const docLinkHtml = 'Like what you see? Visit the ' +\n",
              "          '<a target=\"_blank\" href=https://colab.research.google.com/notebooks/data_table.ipynb>data table notebook</a>'\n",
              "          + ' to learn more about interactive tables.';\n",
              "        element.innerHTML = '';\n",
              "        dataTable['output_type'] = 'display_data';\n",
              "        await google.colab.output.renderOutput(dataTable, element);\n",
              "        const docLink = document.createElement('div');\n",
              "        docLink.innerHTML = docLinkHtml;\n",
              "        element.appendChild(docLink);\n",
              "      }\n",
              "    </script>\n",
              "  </div>\n",
              "\n",
              "\n",
              "<div id=\"df-18e08bf3-c87e-4f2a-9826-edc3329b0b4f\">\n",
              "  <button class=\"colab-df-quickchart\" onclick=\"quickchart('df-18e08bf3-c87e-4f2a-9826-edc3329b0b4f')\"\n",
              "            title=\"Suggest charts\"\n",
              "            style=\"display:none;\">\n",
              "\n",
              "<svg xmlns=\"http://www.w3.org/2000/svg\" height=\"24px\"viewBox=\"0 0 24 24\"\n",
              "     width=\"24px\">\n",
              "    <g>\n",
              "        <path d=\"M19 3H5c-1.1 0-2 .9-2 2v14c0 1.1.9 2 2 2h14c1.1 0 2-.9 2-2V5c0-1.1-.9-2-2-2zM9 17H7v-7h2v7zm4 0h-2V7h2v10zm4 0h-2v-4h2v4z\"/>\n",
              "    </g>\n",
              "</svg>\n",
              "  </button>\n",
              "\n",
              "<style>\n",
              "  .colab-df-quickchart {\n",
              "      --bg-color: #E8F0FE;\n",
              "      --fill-color: #1967D2;\n",
              "      --hover-bg-color: #E2EBFA;\n",
              "      --hover-fill-color: #174EA6;\n",
              "      --disabled-fill-color: #AAA;\n",
              "      --disabled-bg-color: #DDD;\n",
              "  }\n",
              "\n",
              "  [theme=dark] .colab-df-quickchart {\n",
              "      --bg-color: #3B4455;\n",
              "      --fill-color: #D2E3FC;\n",
              "      --hover-bg-color: #434B5C;\n",
              "      --hover-fill-color: #FFFFFF;\n",
              "      --disabled-bg-color: #3B4455;\n",
              "      --disabled-fill-color: #666;\n",
              "  }\n",
              "\n",
              "  .colab-df-quickchart {\n",
              "    background-color: var(--bg-color);\n",
              "    border: none;\n",
              "    border-radius: 50%;\n",
              "    cursor: pointer;\n",
              "    display: none;\n",
              "    fill: var(--fill-color);\n",
              "    height: 32px;\n",
              "    padding: 0;\n",
              "    width: 32px;\n",
              "  }\n",
              "\n",
              "  .colab-df-quickchart:hover {\n",
              "    background-color: var(--hover-bg-color);\n",
              "    box-shadow: 0 1px 2px rgba(60, 64, 67, 0.3), 0 1px 3px 1px rgba(60, 64, 67, 0.15);\n",
              "    fill: var(--button-hover-fill-color);\n",
              "  }\n",
              "\n",
              "  .colab-df-quickchart-complete:disabled,\n",
              "  .colab-df-quickchart-complete:disabled:hover {\n",
              "    background-color: var(--disabled-bg-color);\n",
              "    fill: var(--disabled-fill-color);\n",
              "    box-shadow: none;\n",
              "  }\n",
              "\n",
              "  .colab-df-spinner {\n",
              "    border: 2px solid var(--fill-color);\n",
              "    border-color: transparent;\n",
              "    border-bottom-color: var(--fill-color);\n",
              "    animation:\n",
              "      spin 1s steps(1) infinite;\n",
              "  }\n",
              "\n",
              "  @keyframes spin {\n",
              "    0% {\n",
              "      border-color: transparent;\n",
              "      border-bottom-color: var(--fill-color);\n",
              "      border-left-color: var(--fill-color);\n",
              "    }\n",
              "    20% {\n",
              "      border-color: transparent;\n",
              "      border-left-color: var(--fill-color);\n",
              "      border-top-color: var(--fill-color);\n",
              "    }\n",
              "    30% {\n",
              "      border-color: transparent;\n",
              "      border-left-color: var(--fill-color);\n",
              "      border-top-color: var(--fill-color);\n",
              "      border-right-color: var(--fill-color);\n",
              "    }\n",
              "    40% {\n",
              "      border-color: transparent;\n",
              "      border-right-color: var(--fill-color);\n",
              "      border-top-color: var(--fill-color);\n",
              "    }\n",
              "    60% {\n",
              "      border-color: transparent;\n",
              "      border-right-color: var(--fill-color);\n",
              "    }\n",
              "    80% {\n",
              "      border-color: transparent;\n",
              "      border-right-color: var(--fill-color);\n",
              "      border-bottom-color: var(--fill-color);\n",
              "    }\n",
              "    90% {\n",
              "      border-color: transparent;\n",
              "      border-bottom-color: var(--fill-color);\n",
              "    }\n",
              "  }\n",
              "</style>\n",
              "\n",
              "  <script>\n",
              "    async function quickchart(key) {\n",
              "      const quickchartButtonEl =\n",
              "        document.querySelector('#' + key + ' button');\n",
              "      quickchartButtonEl.disabled = true;  // To prevent multiple clicks.\n",
              "      quickchartButtonEl.classList.add('colab-df-spinner');\n",
              "      try {\n",
              "        const charts = await google.colab.kernel.invokeFunction(\n",
              "            'suggestCharts', [key], {});\n",
              "      } catch (error) {\n",
              "        console.error('Error during call to suggestCharts:', error);\n",
              "      }\n",
              "      quickchartButtonEl.classList.remove('colab-df-spinner');\n",
              "      quickchartButtonEl.classList.add('colab-df-quickchart-complete');\n",
              "    }\n",
              "    (() => {\n",
              "      let quickchartButtonEl =\n",
              "        document.querySelector('#df-18e08bf3-c87e-4f2a-9826-edc3329b0b4f button');\n",
              "      quickchartButtonEl.style.display =\n",
              "        google.colab.kernel.accessAllowed ? 'block' : 'none';\n",
              "    })();\n",
              "  </script>\n",
              "</div>\n",
              "\n",
              "  <div id=\"id_d4467ee2-b6f0-4200-a041-5f01605007ef\">\n",
              "    <style>\n",
              "      .colab-df-generate {\n",
              "        background-color: #E8F0FE;\n",
              "        border: none;\n",
              "        border-radius: 50%;\n",
              "        cursor: pointer;\n",
              "        display: none;\n",
              "        fill: #1967D2;\n",
              "        height: 32px;\n",
              "        padding: 0 0 0 0;\n",
              "        width: 32px;\n",
              "      }\n",
              "\n",
              "      .colab-df-generate:hover {\n",
              "        background-color: #E2EBFA;\n",
              "        box-shadow: 0px 1px 2px rgba(60, 64, 67, 0.3), 0px 1px 3px 1px rgba(60, 64, 67, 0.15);\n",
              "        fill: #174EA6;\n",
              "      }\n",
              "\n",
              "      [theme=dark] .colab-df-generate {\n",
              "        background-color: #3B4455;\n",
              "        fill: #D2E3FC;\n",
              "      }\n",
              "\n",
              "      [theme=dark] .colab-df-generate:hover {\n",
              "        background-color: #434B5C;\n",
              "        box-shadow: 0px 1px 3px 1px rgba(0, 0, 0, 0.15);\n",
              "        filter: drop-shadow(0px 1px 2px rgba(0, 0, 0, 0.3));\n",
              "        fill: #FFFFFF;\n",
              "      }\n",
              "    </style>\n",
              "    <button class=\"colab-df-generate\" onclick=\"generateWithVariable('d')\"\n",
              "            title=\"Generate code using this dataframe.\"\n",
              "            style=\"display:none;\">\n",
              "\n",
              "  <svg xmlns=\"http://www.w3.org/2000/svg\" height=\"24px\"viewBox=\"0 0 24 24\"\n",
              "       width=\"24px\">\n",
              "    <path d=\"M7,19H8.4L18.45,9,17,7.55,7,17.6ZM5,21V16.75L18.45,3.32a2,2,0,0,1,2.83,0l1.4,1.43a1.91,1.91,0,0,1,.58,1.4,1.91,1.91,0,0,1-.58,1.4L9.25,21ZM18.45,9,17,7.55Zm-12,3A5.31,5.31,0,0,0,4.9,8.1,5.31,5.31,0,0,0,1,6.5,5.31,5.31,0,0,0,4.9,4.9,5.31,5.31,0,0,0,6.5,1,5.31,5.31,0,0,0,8.1,4.9,5.31,5.31,0,0,0,12,6.5,5.46,5.46,0,0,0,6.5,12Z\"/>\n",
              "  </svg>\n",
              "    </button>\n",
              "    <script>\n",
              "      (() => {\n",
              "      const buttonEl =\n",
              "        document.querySelector('#id_d4467ee2-b6f0-4200-a041-5f01605007ef button.colab-df-generate');\n",
              "      buttonEl.style.display =\n",
              "        google.colab.kernel.accessAllowed ? 'block' : 'none';\n",
              "\n",
              "      buttonEl.onclick = () => {\n",
              "        google.colab.notebook.generateWithVariable('d');\n",
              "      }\n",
              "      })();\n",
              "    </script>\n",
              "  </div>\n",
              "\n",
              "    </div>\n",
              "  </div>\n"
            ],
            "application/vnd.google.colaboratory.intrinsic+json": {
              "type": "dataframe",
              "variable_name": "d",
              "summary": "{\n  \"name\": \"d\",\n  \"rows\": 17000,\n  \"fields\": [\n    {\n      \"column\": \"longitude\",\n      \"properties\": {\n        \"dtype\": \"number\",\n        \"std\": 2.0051664084261778,\n        \"min\": -124.35,\n        \"max\": -114.31,\n        \"num_unique_values\": 827,\n        \"samples\": [\n          -117.56,\n          -123.32,\n          -118.26\n        ],\n        \"semantic_type\": \"\",\n        \"description\": \"\"\n      }\n    },\n    {\n      \"column\": \"latitude\",\n      \"properties\": {\n        \"dtype\": \"number\",\n        \"std\": 2.1373397946570836,\n        \"min\": 32.54,\n        \"max\": 41.95,\n        \"num_unique_values\": 840,\n        \"samples\": [\n          38.44,\n          40.79,\n          32.69\n        ],\n        \"semantic_type\": \"\",\n        \"description\": \"\"\n      }\n    },\n    {\n      \"column\": \"housing_median_age\",\n      \"properties\": {\n        \"dtype\": \"number\",\n        \"std\": 12.586936981660399,\n        \"min\": 1.0,\n        \"max\": 52.0,\n        \"num_unique_values\": 52,\n        \"samples\": [\n          23.0,\n          52.0,\n          47.0\n        ],\n        \"semantic_type\": \"\",\n        \"description\": \"\"\n      }\n    },\n    {\n      \"column\": \"total_rooms\",\n      \"properties\": {\n        \"dtype\": \"number\",\n        \"std\": 2179.947071452767,\n        \"min\": 2.0,\n        \"max\": 37937.0,\n        \"num_unique_values\": 5533,\n        \"samples\": [\n          3564.0,\n          6955.0,\n          5451.0\n        ],\n        \"semantic_type\": \"\",\n        \"description\": \"\"\n      }\n    },\n    {\n      \"column\": \"total_bedrooms\",\n      \"properties\": {\n        \"dtype\": \"number\",\n        \"std\": 421.4994515798646,\n        \"min\": 1.0,\n        \"max\": 6445.0,\n        \"num_unique_values\": 1848,\n        \"samples\": [\n          729.0,\n          719.0,\n          2075.0\n        ],\n        \"semantic_type\": \"\",\n        \"description\": \"\"\n      }\n    },\n    {\n      \"column\": \"population\",\n      \"properties\": {\n        \"dtype\": \"number\",\n        \"std\": 1147.8529591595266,\n        \"min\": 3.0,\n        \"max\": 35682.0,\n        \"num_unique_values\": 3683,\n        \"samples\": [\n          249.0,\n          1735.0,\n          235.0\n        ],\n        \"semantic_type\": \"\",\n        \"description\": \"\"\n      }\n    },\n    {\n      \"column\": \"households\",\n      \"properties\": {\n        \"dtype\": \"number\",\n        \"std\": 384.5208408559009,\n        \"min\": 1.0,\n        \"max\": 6082.0,\n        \"num_unique_values\": 1740,\n        \"samples\": [\n          390.0,\n          1089.0,\n          1351.0\n        ],\n        \"semantic_type\": \"\",\n        \"description\": \"\"\n      }\n    },\n    {\n      \"column\": \"median_income\",\n      \"properties\": {\n        \"dtype\": \"number\",\n        \"std\": 1.9081565183791036,\n        \"min\": 0.4999,\n        \"max\": 15.0001,\n        \"num_unique_values\": 11175,\n        \"samples\": [\n          7.2655,\n          5.6293,\n          4.2262\n        ],\n        \"semantic_type\": \"\",\n        \"description\": \"\"\n      }\n    },\n    {\n      \"column\": \"median_house_value\",\n      \"properties\": {\n        \"dtype\": \"number\",\n        \"std\": 115983.76438720885,\n        \"min\": 14999.0,\n        \"max\": 500001.0,\n        \"num_unique_values\": 3694,\n        \"samples\": [\n          162300.0,\n          346800.0,\n          116700.0\n        ],\n        \"semantic_type\": \"\",\n        \"description\": \"\"\n      }\n    }\n  ]\n}"
            }
          },
          "metadata": {},
          "execution_count": 21
        }
      ]
    },
    {
      "cell_type": "code",
      "source": [
        "print(\"1.)Mean of Longitude is\",np.mean(d['longitude']))\n",
        "print(\"2.)Mean of Latitude is\",np.mean(d['latitude']))\n",
        "print(\"3.)Mean of Housing Median Age is\",np.mean(d['housing_median_age']))\n",
        "print(\"4.)Mean of Total Rooms is\",np.mean(d['total_rooms']))\n",
        "print(\"5.)Mean of Total Bedrooms is\",np.mean(d['total_bedrooms']))\n",
        "print(\"6.)Mean of Population is\",np.mean(d['population']))\n",
        "print(\"7.)Mean of Households is\",np.mean(d['households']))\n",
        "print(\"8.)Mean of Median Income is\",np.mean(d['median_income']))\n",
        "print(\"9.)Mean of Median House_value is\",np.mean(d['median_house_value']))"
      ],
      "metadata": {
        "colab": {
          "base_uri": "https://localhost:8080/"
        },
        "id": "F1RURyTYa_8q",
        "outputId": "e1e9a98e-f536-4862-d909-a825e80df69a"
      },
      "execution_count": null,
      "outputs": [
        {
          "output_type": "stream",
          "name": "stdout",
          "text": [
            "1.)Mean of Longitude is -119.5621082352941\n",
            "2.)Mean of Latitude is 35.62522470588235\n",
            "3.)Mean of Housing Median Age is 28.58935294117647\n",
            "4.)Mean of Total Rooms is 2643.664411764706\n",
            "5.)Mean of Total Bedrooms is 539.4108235294118\n",
            "6.)Mean of Population is 1429.5739411764705\n",
            "7.)Mean of Households is 501.2219411764706\n",
            "8.)Mean of Median Income is 3.8835781000000007\n",
            "9.)Mean of Median House_value is 207300.91235294117\n"
          ]
        }
      ]
    },
    {
      "cell_type": "code",
      "source": [
        "print(\"1.)Median of Longitude is\",np.median(d['longitude']))\n",
        "print(\"2.)Median of Latitude is\",np.median(d['latitude']))\n",
        "print(\"3.)Median of Housing Median Age is\",np.median(d['housing_median_age']))\n",
        "print(\"4.)Median of Total Rooms is\",np.median(d['total_rooms']))\n",
        "print(\"5.)Median of Total Bedrooms is\",np.median(d['total_bedrooms']))\n",
        "print(\"6.)Median of population is\",np.median(d['population']))\n",
        "print(\"7.)Median of Households is\",np.median(d['households']))\n",
        "print(\"8.)Median of Median Income is\",np.median(d['median_income']))\n",
        "print(\"9.)Median of Median House Value is\",np.median(d['median_house_value']))"
      ],
      "metadata": {
        "colab": {
          "base_uri": "https://localhost:8080/"
        },
        "id": "aQ4azLS1beAH",
        "outputId": "4b8b1159-841c-453f-8815-2befebab896f"
      },
      "execution_count": null,
      "outputs": [
        {
          "output_type": "stream",
          "name": "stdout",
          "text": [
            "1.)Median of Longitude is -118.49\n",
            "2.)Median of Latitude is 34.25\n",
            "3.)Median of Housing Median Age is 29.0\n",
            "4.)Median of Total Rooms is 2127.0\n",
            "5.)Median of Total Bedrooms is 434.0\n",
            "6.)Median of population is 1167.0\n",
            "7.)Median of Households is 409.0\n",
            "8.)Median of Median Income is 3.5446\n",
            "9.)Median of Median House Value is 180400.0\n"
          ]
        }
      ]
    },
    {
      "cell_type": "code",
      "source": [
        "print(\"1.)Mode of Longitude is\",s.mode(d['longitude']))\n",
        "print(\"2.)Mode of Latitude is\",s.mode(d['latitude']))\n",
        "print(\"3.)Mode of Housing Median Age is\",s.mode(d['housing_median_age']))\n",
        "print(\"4.)Mode of Total Rooms is\",s.mode(d['total_rooms']))\n",
        "print(\"5.)Mode of Total Bedrooms is\",s.mode(d['total_bedrooms']))\n",
        "print(\"6.)Mode of Population is\",s.mode(d['population']))\n",
        "print(\"7.)Mode of Households is\",s.mode(d['households']))\n",
        "print(\"8.)Mode of Median Income is\",s.mode(d['median_income']))\n",
        "print(\"9.)Mode of Median House Value is\",s.mode(d['median_house_value']))"
      ],
      "metadata": {
        "colab": {
          "base_uri": "https://localhost:8080/"
        },
        "id": "NsclPMRSbvo4",
        "outputId": "2d73789b-32db-4104-ccc3-b762c29aa345"
      },
      "execution_count": null,
      "outputs": [
        {
          "output_type": "stream",
          "name": "stdout",
          "text": [
            "1.)Mode of Longitude is ModeResult(mode=-118.31, count=136)\n",
            "2.)Mode of Latitude is ModeResult(mode=34.06, count=205)\n",
            "3.)Mode of Housing Median Age is ModeResult(mode=52.0, count=1052)\n",
            "4.)Mode of Total Rooms is ModeResult(mode=1582.0, count=16)\n",
            "5.)Mode of Total Bedrooms is ModeResult(mode=280.0, count=48)\n",
            "6.)Mode of Population is ModeResult(mode=891.0, count=23)\n",
            "7.)Mode of Households is ModeResult(mode=306.0, count=48)\n",
            "8.)Mode of Median Income is ModeResult(mode=3.125, count=41)\n",
            "9.)Mode of Median House Value is ModeResult(mode=500001.0, count=814)\n"
          ]
        }
      ]
    },
    {
      "cell_type": "code",
      "source": [
        "print(\"1.)Variance of Longitude is\",np.var(d['longitude']))\n",
        "print(\"2.)Variance of Latitude is\",np.var(d['latitude']))\n",
        "print(\"3.)Variance of Housing Median_age is\",np.var(d['housing_median_age']))\n",
        "print(\"4.)Variance of Total Rooms is\",np.var(d['total_rooms']))\n",
        "print(\"5.)Variance of Total Bedrooms is\",np.var(d['total_bedrooms']))\n",
        "print(\"6.)Variance of Population is\",np.var(d['population']))\n",
        "print(\"7.)Variance of Households is\",np.var(d['households']))\n",
        "print(\"8.)Variance of Median Income is\",np.var(d['median_income']))\n",
        "print(\"9.)Variance of Median House Value is\",np.var(d['median_house_value']))"
      ],
      "metadata": {
        "colab": {
          "base_uri": "https://localhost:8080/"
        },
        "id": "OvGrdlNYb73e",
        "outputId": "61ddb361-7908-46a1-9725-f35f0a4e1b3e"
      },
      "execution_count": null,
      "outputs": [
        {
          "output_type": "stream",
          "name": "stdout",
          "text": [
            "1.)Variance of Longitude is 4.020455814167474\n",
            "2.)Variance of Latitude is 4.56795267891903\n",
            "3.)Variance of Housing Median_age is 158.42166311072666\n",
            "4.)Variance of Total Rooms is 4751889.69496877\n",
            "5.)Variance of Total Bedrooms is 177651.3369887336\n",
            "6.)Variance of Population is 1317488.9119444669\n",
            "7.)Variance of Households is 147847.57962446712\n",
            "8.)Variance of Median Income is 3.6408471185562723\n",
            "9.)Variance of Median House Value is 13451442293.56867\n"
          ]
        }
      ]
    },
    {
      "cell_type": "code",
      "source": [
        "print(\"1.)Standard deviation of Longitude is\",np.std(d['longitude']))\n",
        "print(\"2.)Standard deviation of Latitude is\",np.std(d['latitude']))\n",
        "print(\"3.)Standard deviation of Housing Median Age is\",np.std(d['housing_median_age']))\n",
        "print(\"4.)Standard deviation of Total Rooms is\",np.std(d['total_rooms']))\n",
        "print(\"5.)Standard deviation of Total Bedrooms is\",np.std(d['total_bedrooms']))\n",
        "print(\"6.)Standard deviation of Population is\",np.std(d['population']))\n",
        "print(\"7.)Standard deviation of Households is\",np.std(d['households']))\n",
        "print(\"8.)Standard deviation of Median Income is\",np.std(d['median_income']))\n",
        "print(\"9.)Standard deviation of Median House Value is\",np.std(d['median_house_value']))"
      ],
      "metadata": {
        "colab": {
          "base_uri": "https://localhost:8080/"
        },
        "id": "0GKdcRq2cBkB",
        "outputId": "2413f91d-a71c-4d7e-f444-6131aabc8ced"
      },
      "execution_count": null,
      "outputs": [
        {
          "output_type": "stream",
          "name": "stdout",
          "text": [
            "1.)Standard deviation of Longitude is 2.005107432076265\n",
            "2.)Standard deviation of Latitude is 2.1372769307974644\n",
            "3.)Standard deviation of Housing Median Age is 12.58656677218719\n",
            "4.)Standard deviation of Total Rooms is 2179.8829544195187\n",
            "5.)Standard deviation of Total Bedrooms is 421.4870543548563\n",
            "6.)Standard deviation of Population is 1147.819198281884\n",
            "7.)Standard deviation of Households is 384.50953125308496\n",
            "8.)Standard deviation of Median Income is 1.9081003953032116\n",
            "9.)Standard deviation of Median House Value is 115980.35304985354\n"
          ]
        }
      ]
    },
    {
      "cell_type": "code",
      "source": [
        "print(\"1.)Range of Longitude is \",max(d['longitude'])-min(d['longitude']))\n",
        "print(\"2.)Range of Latitude is \",max(d['latitude'])-min(d['latitude']))\n",
        "print(\"3.)Range of Housing Median Age is \",max(d['housing_median_age'])-min(d['housing_median_age']))\n",
        "print(\"4.)Range of Total Rooms is \",max(d['total_rooms'])-min(d['total_rooms']))\n",
        "print(\"5.)Range of Total Bedrooms is \",max(d['total_bedrooms'])-min(d['total_bedrooms']))\n",
        "print(\"6.)Range of Population is \",max(d['population'])-min(d['population']))\n",
        "print(\"7.)Range of Households is \",max(d['households'])-min(d['households']))\n",
        "print(\"8.)Range of Median Income is \",max(d['median_income'])-min(d['median_income']))\n",
        "print(\"9.)Range of Median House Value is \",max(d['median_house_value'])-min(d['median_house_value']))"
      ],
      "metadata": {
        "colab": {
          "base_uri": "https://localhost:8080/"
        },
        "id": "L2N19Rj-cWpY",
        "outputId": "d3849313-42b0-4695-9060-88a06281f4ce"
      },
      "execution_count": null,
      "outputs": [
        {
          "output_type": "stream",
          "name": "stdout",
          "text": [
            "1.)Range of Longitude is  10.039999999999992\n",
            "2.)Range of Latitude is  9.410000000000004\n",
            "3.)Range of Housing Median Age is  51.0\n",
            "4.)Range of Total Rooms is  37935.0\n",
            "5.)Range of Total Bedrooms is  6444.0\n",
            "6.)Range of Population is  35679.0\n",
            "7.)Range of Households is  6081.0\n",
            "8.)Range of Median Income is  14.5002\n",
            "9.)Range of Median House Value is  485002.0\n"
          ]
        }
      ]
    },
    {
      "cell_type": "code",
      "source": [
        "print(\"1.)Interquartile range of Longitude is \",np.percentile(d['longitude'],75)-np.percentile(d['longitude'],25))\n",
        "print(\"2.)Interquartile range of Latitude is \",np.percentile(d['latitude'],75)-np.percentile(d['latitude'],25))\n",
        "print(\"3.)Interquartile range of Housing Median Age is \",np.percentile(d['housing_median_age'],75)-np.percentile(d['housing_median_age'],25))\n",
        "print(\"4.)Interquartile range of Total Rooms is \",np.percentile(d['total_rooms'],75)-np.percentile(d['total_rooms'],25))\n",
        "print(\"5.)Interquartile range of Total Bedrooms is \",np.percentile(d['total_bedrooms'],75)-np.percentile(d['total_bedrooms'],25))\n",
        "print(\"6.)Interquartile range of Population is \",np.percentile(d['population'],75)-np.percentile(d['population'],25))\n",
        "print(\"7.)Interquartile range of Households is \",np.percentile(d['households'],75)-np.percentile(d['households'],25))\n",
        "print(\"8.)Interquartile range of Median Income is \",np.percentile(d['median_income'],75)-np.percentile(d['median_income'],25))\n",
        "print(\"9.)Interquartile range of Median House_value is \",np.percentile(d['median_house_value'],75)-np.percentile(d['median_house_value'],25))"
      ],
      "metadata": {
        "colab": {
          "base_uri": "https://localhost:8080/"
        },
        "id": "Thz0o60QcmxY",
        "outputId": "55139391-ce90-4209-e610-b1667e6a6463"
      },
      "execution_count": null,
      "outputs": [
        {
          "output_type": "stream",
          "name": "stdout",
          "text": [
            "1.)Interquartile range of Longitude is  3.7900000000000063\n",
            "2.)Interquartile range of Latitude is  3.789999999999999\n",
            "3.)Interquartile range of Housing Median Age is  19.0\n",
            "4.)Interquartile range of Total Rooms is  1689.25\n",
            "5.)Interquartile range of Total Bedrooms is  351.25\n",
            "6.)Interquartile range of Population is  931.0\n",
            "7.)Interquartile range of Households is  323.25\n",
            "8.)Interquartile range of Median Income is  2.2006250000000005\n",
            "9.)Interquartile range of Median House_value is  145600.0\n"
          ]
        }
      ]
    },
    {
      "cell_type": "code",
      "source": [
        "print(\"1.)Skewness of Longitude is \",s.skew(d['longitude']))\n",
        "print(\"2.)Skewness of Latitude is \",s.skew(d['latitude']))\n",
        "print(\"3.)Skewness of Housing Median Age is \",s.skew(d['housing_median_age']))\n",
        "print(\"4.)Skewness of Total Rooms is \",s.skew(d['total_rooms']))\n",
        "print(\"5.)Skewness of Total Bedrooms is \",s.skew(d['total_bedrooms']))\n",
        "print(\"6.)Skewness of Population is \",s.skew(d['population']))\n",
        "print(\"7.)Skewness of Households is \",s.skew(d['households']))\n",
        "print(\"8.)Skewness of Median Income is \",s.skew(d['median_income']))\n",
        "print(\"9.)Skewness of Median House Value is \",s.skew(d['median_house_value']))"
      ],
      "metadata": {
        "colab": {
          "base_uri": "https://localhost:8080/"
        },
        "id": "SxVd6ZdXc7dx",
        "outputId": "c67f738a-6632-46e7-83ad-ef9a7db8e4c6"
      },
      "execution_count": null,
      "outputs": [
        {
          "output_type": "stream",
          "name": "stdout",
          "text": [
            "1.)Skewness of Longitude is  -0.3039761523070951\n",
            "2.)Skewness of Latitude is  0.4717594898275316\n",
            "3.)Skewness of Housing Median Age is  0.06488830685009067\n",
            "4.)Skewness of Total Rooms is  4.002376807943256\n",
            "5.)Skewness of Total Bedrooms is  3.322343534496144\n",
            "6.)Skewness of Population is  5.1867541718637655\n",
            "7.)Skewness of Households is  3.3423734139781573\n",
            "8.)Skewness of Median Income is  1.6265495626993867\n",
            "9.)Skewness of Median House Value is  0.9729507751946058\n"
          ]
        }
      ]
    },
    {
      "cell_type": "code",
      "source": [
        "print(\"1.)Kurtosis of Longitude is \",s.kurtosis(d['longitude']))\n",
        "print(\"2.)Kurtosis of Latitude is \",s.kurtosis(d['latitude']))\n",
        "print(\"3.)Kurtosis of Housing Median Age is \",s.kurtosis(d['housing_median_age']))\n",
        "print(\"4.)Kurtosis of Total Rooms is \",s.kurtosis(d['total_bedrooms']))\n",
        "print(\"5.)Kurtosis of Total Bedrooms is \",s.kurtosis(d['total_rooms']))\n",
        "print(\"6.)Kurtosis of Population is \",s.kurtosis(d['population']))\n",
        "print(\"7.)Kurtosis of Households is \",s.kurtosis(d['households']))\n",
        "print(\"8.)Kurtosis of Median Income is \",s.kurtosis(d['median_income']))\n",
        "print(\"9.)Kurtosis of Median House_value is \",s.kurtosis(d['median_house_value']))"
      ],
      "metadata": {
        "colab": {
          "base_uri": "https://localhost:8080/"
        },
        "id": "TFm8OrpBdKPm",
        "outputId": "c616f6df-3c4c-44df-851f-de8f9e95ce1b"
      },
      "execution_count": null,
      "outputs": [
        {
          "output_type": "stream",
          "name": "stdout",
          "text": [
            "1.)Kurtosis of Longitude is  -1.3222937000181343\n",
            "2.)Kurtosis of Latitude is  -1.1122523149717827\n",
            "3.)Kurtosis of Housing Median Age is  -0.8009436273526562\n",
            "4.)Kurtosis of Total Rooms is  19.686605656520893\n",
            "5.)Kurtosis of Total Bedrooms is  29.50685142754095\n",
            "6.)Kurtosis of Population is  80.83786311937729\n",
            "7.)Kurtosis of Households is  20.686206054602916\n",
            "8.)Kurtosis of Median Income is  4.762390906200881\n",
            "9.)Kurtosis of Median House_value is  0.303555274502215\n"
          ]
        }
      ]
    },
    {
      "cell_type": "code",
      "source": [],
      "metadata": {
        "id": "BXuEKU_XdbcB"
      },
      "execution_count": null,
      "outputs": []
    }
  ]
}